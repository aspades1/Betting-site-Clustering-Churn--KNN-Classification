{
 "cells": [
  {
   "cell_type": "code",
   "execution_count": 1,
   "id": "f381d308",
   "metadata": {},
   "outputs": [],
   "source": [
    "import pandas as pd\n",
    "import numpy as np\n",
    "pd.set_option('display.max_rows', 500)\n",
    "pd.set_option('display.max_columns', 500)\n",
    "pd.set_option('display.width', 1000)\n",
    "import matplotlib.pyplot as plt\n",
    "plt.rcParams['figure.figsize'] = (16, 9)\n",
    "plt.style.use('ggplot')\n",
    "from functools import reduce\n",
    "import datetime\n",
    "from scipy import stats\n",
    "import seaborn as sns"
   ]
  },
  {
   "cell_type": "code",
   "execution_count": 3,
   "id": "2f44c09a",
   "metadata": {},
   "outputs": [],
   "source": [
    "path1=\"/Users/chrestoslogaras/Desktop/novibet/Casino games (1).csv\"\n",
    "games = pd.read_csv(path1)"
   ]
  },
  {
   "cell_type": "code",
   "execution_count": 4,
   "id": "6f21e18c",
   "metadata": {},
   "outputs": [],
   "source": [
    "games.rename(columns={\"UserID\": \"UserProfileId\"},inplace=True)\n",
    "games['DATE'] = pd.to_datetime(games['Date']).dt.date"
   ]
  },
  {
   "cell_type": "code",
   "execution_count": 5,
   "id": "b9ead351",
   "metadata": {},
   "outputs": [],
   "source": [
    "#Parameters for periods\n",
    "freq='W'\n",
    "start_length=14\n",
    "label_period_days=7\n",
    "\n",
    "# Get start and end dates of dataset\n",
    "start_date = games['DATE'].min() + pd.Timedelta(start_length, unit=\"D\")\n",
    "end_date = games['DATE'].max() #- pd.Timedelta(label_period_days, unit=\"D\")  -> if i wanted to exclude last period to use as a validation\n",
    "# Get dates at desired interval\n",
    "rng = pd.date_range(start=start_date, end=end_date, freq=freq)#datetime642\n",
    "dates = rng.date"
   ]
  },
  {
   "cell_type": "code",
   "execution_count": 6,
   "id": "20d54100",
   "metadata": {},
   "outputs": [],
   "source": [
    "def generate_churn_labels(future):\n",
    "    future['DidBuy'] = 1\n",
    "    return future[['UserProfileId', 'DidBuy']]\n",
    "def data_preprocess(games,cut_off):\n",
    "   \n",
    "\n",
    "    games.sort_values(by=['UserProfileId', 'Date'],inplace=True)\n",
    "\n",
    "    #''' providers per player''' \n",
    "    pcur=games.groupby(['UserProfileId'], as_index=False)['Casino_Provider'].nunique()\n",
    "    pcur.rename(columns = {'Casino_Provider':'platforms'}, inplace = True)\n",
    "    #''' frequency per id''' \n",
    "    freq=games.groupby(['UserProfileId'], as_index=False)['Casino_Provider'].count()\n",
    "    freq.rename(columns = {'Casino_Provider':'F'}, inplace = True)\n",
    "\n",
    "    income=games[(games['Hold']>0)].groupby(['UserProfileId'], as_index=False)['Hold'].sum()\n",
    "    income.rename(columns = {'Hold':'I'}, inplace = True)\n",
    "    #''' profit per player (positive=profit, negative= loss, ''' \n",
    "    profit=games.groupby(['UserProfileId'], as_index=False)['Hold'].sum()\n",
    "    profit.rename(columns = {'Hold':'P'}, inplace = True)\n",
    "    #''' sum of ingame transactions per player (total monetary value)''' \n",
    "    games['absvalue']=games['Hold'].abs()\n",
    "    absvalue=games.groupby(['UserProfileId'], as_index=False)['absvalue'].sum()\n",
    "    #'''difference between games measured in days\n",
    "    games.sort_values(['UserProfileId','Date'],inplace=True)\n",
    "    \n",
    "    \n",
    "    games_occur=games.groupby('UserProfileId')['Date'].min().reset_index()\n",
    "    games_occur['minDate'] = pd.to_datetime(games_occur['Date']).dt.date\n",
    "    games_occur['cutoff'] = cut_off\n",
    "    \n",
    "    games_nq=games.groupby('UserProfileId')['Date'].nunique().reset_index()\n",
    "    games_nq['nuniqueDate'] = games_nq['Date']\n",
    "    \n",
    "    games_mxdt=games.groupby('UserProfileId')['Date'].max().reset_index()\n",
    "    games_mxdt['maxDate'] = pd.to_datetime( games_mxdt['Date']).dt.date  \n",
    "\n",
    "    #''' average use of free bonus per player'''\n",
    "    bonus=games.groupby(['UserProfileId'], as_index=False)['IsFreeSpinID'].mean()\n",
    "    #''' average use of live games per player'''\n",
    "    live=games.groupby(['UserProfileId'], as_index=False)['IsLiveID'].mean()    \n",
    "    #''' merge all DataFrames into one'''\n",
    "    dfss = [pcur, freq,absvalue,profit,games_occur,bonus,live,games_nq,games_mxdt]\n",
    "    gameid = reduce(lambda  left,right: pd.merge(left,right,on=[\"UserProfileId\"],how='outer'), dfss)\n",
    "    #'''novibet profit over all ingame transactions per player\n",
    "    gameid['Pt%']=gameid['P']/gameid['absvalue']\n",
    "    gameid['age']=(gameid['maxDate']-gameid['minDate']).dt.days\n",
    "    gameid.drop(axis=1,columns='P',inplace=True)\n",
    "    #''' fill na Pt where player with single instance and 0 monetary outcome of game\n",
    "    gameid['Pt%'].fillna(0,inplace=True)\n",
    "    gameid['valpergame']=gameid['absvalue']/gameid['F']\n",
    "    gameid.drop(axis=1,columns='absvalue',inplace=True)\n",
    "    df1=gameid.copy()\n",
    "    #df1.fillna(0,inplace=True)\n",
    " \n",
    "    return df1"
   ]
  },
  {
   "cell_type": "code",
   "execution_count": 7,
   "id": "18dd16b2",
   "metadata": {},
   "outputs": [
    {
     "name": "stdout",
     "output_type": "stream",
     "text": [
      "computing rfm features for predicting the churn in future period between 2021-09-19 and 2021-09-26:\n"
     ]
    },
    {
     "name": "stderr",
     "output_type": "stream",
     "text": [
      "/Users/chrestoslogaras/opt/anaconda3/envs/py37/lib/python3.7/site-packages/pandas/util/_decorators.py:311: SettingWithCopyWarning: \n",
      "A value is trying to be set on a copy of a slice from a DataFrame\n",
      "\n",
      "See the caveats in the documentation: https://pandas.pydata.org/pandas-docs/stable/user_guide/indexing.html#returning-a-view-versus-a-copy\n",
      "  return func(*args, **kwargs)\n",
      "/Users/chrestoslogaras/opt/anaconda3/envs/py37/lib/python3.7/site-packages/ipykernel_launcher.py:22: SettingWithCopyWarning: \n",
      "A value is trying to be set on a copy of a slice from a DataFrame.\n",
      "Try using .loc[row_indexer,col_indexer] = value instead\n",
      "\n",
      "See the caveats in the documentation: https://pandas.pydata.org/pandas-docs/stable/user_guide/indexing.html#returning-a-view-versus-a-copy\n"
     ]
    },
    {
     "name": "stdout",
     "output_type": "stream",
     "text": [
      "computing rfm features for predicting the churn in future period between 2021-09-26 and 2021-10-03:\n",
      "computing rfm features for predicting the churn in future period between 2021-10-03 and 2021-10-10:\n",
      "computing rfm features for predicting the churn in future period between 2021-10-10 and 2021-10-17:\n",
      "computing rfm features for predicting the churn in future period between 2021-10-17 and 2021-10-24:\n",
      "computing rfm features for predicting the churn in future period between 2021-10-24 and 2021-10-31:\n"
     ]
    }
   ],
   "source": [
    "dset_list = []\n",
    "\n",
    "#if we examined each period seperately and not in a recursive manner:\n",
    "#for i in range(0,(len(dates)-1)):\n",
    "#    if i==0:\n",
    "#        gamess = games[games['DATE'] <= dates[i]]\n",
    "#    else:\n",
    "#        gamess = games[(games['DATE'] > dates[i-1])  & (games['DATE'] <= dates[i])]\n",
    "#\n",
    "#    \n",
    "#    future = games[(games['DATE'] > dates[i])&\\\n",
    "#                   (games['DATE'] <= (dates[i] + pd.Timedelta(label_period_days, unit='D')))]\n",
    "for i in range(0,(len(dates)-1)):\n",
    "    if i==0:\n",
    "        gamess = games[games['DATE'] <= dates[i]]\n",
    "    else:\n",
    "        a=games[(games['DATE'] > dates[i-1])  & (games['DATE'] <= dates[i])]['UserProfileId'].unique().tolist()\n",
    "        gamess = games[(games['DATE'] <= dates[i])&(games['UserProfileId'].isin(a) ) ] \n",
    "        # i do not want clients who do not play again to keep appearing beacause the increase the class=0\n",
    "        \n",
    "\n",
    "    \n",
    "    future = games[(games['DATE'] > dates[i])&\\\n",
    "                   (games['DATE'] <= (dates[i] + pd.Timedelta(label_period_days, unit='D')))]\n",
    "\n",
    "    print(f\"computing rfm features for predicting the churn in future period between {dates[i]} and {future['DATE'].max()}:\")\n",
    "    _observed = data_preprocess(gamess,dates[i])\n",
    "    unique_scores = pd.DataFrame(future['UserProfileId'].unique(),columns = ['UserProfileId'])\n",
    "    labels = generate_churn_labels(unique_scores)\n",
    "    \n",
    "    dset = _observed.merge(labels, on='UserProfileId', how='left').fillna(0) \n",
    "    dset_list.append(dset)\n",
    "\n",
    "full_dataset = pd.concat(dset_list, axis=0)"
   ]
  },
  {
   "cell_type": "code",
   "execution_count": 7,
   "id": "90245c10",
   "metadata": {},
   "outputs": [],
   "source": [
    "#Checking\n",
    "#games[games['UserProfileId']==583236].sort_values(by=['Date'])\n",
    "#full_dataset[full_dataset['DidBuy']==0]\n",
    "#full_dataset[full_dataset['UserProfileId']==583003]"
   ]
  },
  {
   "cell_type": "code",
   "execution_count": 8,
   "id": "5fcd86bb",
   "metadata": {},
   "outputs": [],
   "source": [
    "full_dataset.to_csv('out.zip')"
   ]
  },
  {
   "cell_type": "markdown",
   "id": "790b2a9b",
   "metadata": {},
   "source": [
    "full_dataset[full_dataset['UserProfileId']==104]\n",
    "games[games['UserProfileId']==104]"
   ]
  },
  {
   "cell_type": "code",
   "execution_count": 8,
   "id": "62af4caa",
   "metadata": {},
   "outputs": [
    {
     "data": {
      "text/plain": [
       "1.0    551299\n",
       "0.0     71560\n",
       "Name: DidBuy, dtype: int64"
      ]
     },
     "execution_count": 8,
     "metadata": {},
     "output_type": "execute_result"
    }
   ],
   "source": [
    "full_dataset.DidBuy.value_counts()"
   ]
  },
  {
   "cell_type": "markdown",
   "id": "ff40bc8c",
   "metadata": {},
   "source": [
    "'''Warning: Players that first start playing in last period are exluded in this analysis'''\n",
    "\n",
    "a=full_dataset['UserProfileId'].unique().tolist()\n",
    "\n",
    "b=games['UserProfileId'].unique().tolist()\n",
    "\n",
    "b_not_a = set(b).difference(a)\n",
    "\n",
    "len(b_not_a)"
   ]
  }
 ],
 "metadata": {
  "kernelspec": {
   "display_name": "Python 3 (ipykernel)",
   "language": "python",
   "name": "python3"
  },
  "language_info": {
   "codemirror_mode": {
    "name": "ipython",
    "version": 3
   },
   "file_extension": ".py",
   "mimetype": "text/x-python",
   "name": "python",
   "nbconvert_exporter": "python",
   "pygments_lexer": "ipython3",
   "version": "3.7.11"
  }
 },
 "nbformat": 4,
 "nbformat_minor": 5
}
